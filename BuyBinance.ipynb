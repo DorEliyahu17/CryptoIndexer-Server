{
 "cells": [
  {
   "cell_type": "code",
   "execution_count": 1,
   "metadata": {},
   "outputs": [],
   "source": [
    "from binance import Client\n",
    "import json"
   ]
  },
  {
   "cell_type": "code",
   "execution_count": 2,
   "metadata": {},
   "outputs": [],
   "source": [
    "with open('KEYS_BUY.json') as f:\n",
    "    key_dict = json.load(f)\n",
    "    apiKey = key_dict['binance_key']\n",
    "    secret = key_dict['binance_secret']\n",
    "    client = Client(apiKey, secret)"
   ]
  },
  {
   "cell_type": "code",
   "execution_count": 3,
   "metadata": {},
   "outputs": [
    {
     "data": {
      "text/plain": [
       "{'asset': 'USDT', 'free': '14.96559007', 'locked': '0.00000000'}"
      ]
     },
     "execution_count": 3,
     "metadata": {},
     "output_type": "execute_result"
    }
   ],
   "source": [
    "client.get_asset_balance('USDT')"
   ]
  },
  {
   "cell_type": "code",
   "execution_count": 6,
   "metadata": {},
   "outputs": [
    {
     "data": {
      "text/plain": [
       "{'symbol': 'SOLUSDT',\n",
       " 'orderId': 2857316494,\n",
       " 'orderListId': -1,\n",
       " 'clientOrderId': 'x9iDMXFEAM9VRXQ1ccNlVK',\n",
       " 'transactTime': 1655004925388,\n",
       " 'price': '0.00000000',\n",
       " 'origQty': '0.30000000',\n",
       " 'executedQty': '0.30000000',\n",
       " 'cummulativeQuoteQty': '9.74400000',\n",
       " 'status': 'FILLED',\n",
       " 'timeInForce': 'GTC',\n",
       " 'type': 'MARKET',\n",
       " 'side': 'BUY',\n",
       " 'fills': [{'price': '32.48000000',\n",
       "   'qty': '0.30000000',\n",
       "   'commission': '0.00002823',\n",
       "   'commissionAsset': 'BNB',\n",
       "   'tradeId': 281379944}]}"
      ]
     },
     "execution_count": 6,
     "metadata": {},
     "output_type": "execute_result"
    }
   ],
   "source": [
    "client.create_order(symbol='SOLUSDT', side='BUY', type='MARKET', quoteOrderQty=10)"
   ]
  },
  {
   "cell_type": "code",
   "execution_count": 7,
   "metadata": {},
   "outputs": [
    {
     "data": {
      "text/plain": [
       "{'symbol': 'SOLUSDT',\n",
       " 'orderId': 2857322088,\n",
       " 'orderListId': -1,\n",
       " 'clientOrderId': 'HgAL3pN8HLaydUaSPT3Qbx',\n",
       " 'transactTime': 1655004965341,\n",
       " 'price': '0.00000000',\n",
       " 'origQty': '0.30000000',\n",
       " 'executedQty': '0.30000000',\n",
       " 'cummulativeQuoteQty': '9.77700000',\n",
       " 'status': 'FILLED',\n",
       " 'timeInForce': 'GTC',\n",
       " 'type': 'MARKET',\n",
       " 'side': 'SELL',\n",
       " 'fills': [{'price': '32.59000000',\n",
       "   'qty': '0.30000000',\n",
       "   'commission': '0.00002827',\n",
       "   'commissionAsset': 'BNB',\n",
       "   'tradeId': 281380472}]}"
      ]
     },
     "execution_count": 7,
     "metadata": {},
     "output_type": "execute_result"
    }
   ],
   "source": [
    "client.create_order(symbol='SOLUSDT', side='SELL', type='MARKET', quoteOrderQty=10)"
   ]
  },
  {
   "cell_type": "code",
   "execution_count": null,
   "metadata": {},
   "outputs": [],
   "source": []
  }
 ],
 "metadata": {
  "interpreter": {
   "hash": "d678acea6ec33c37d740ecd2aa066a6f90473e62534d37d2e1e606b6e661c969"
  },
  "kernelspec": {
   "display_name": "Python 3.10.4 64-bit",
   "language": "python",
   "name": "python3"
  },
  "language_info": {
   "codemirror_mode": {
    "name": "ipython",
    "version": 3
   },
   "file_extension": ".py",
   "mimetype": "text/x-python",
   "name": "python",
   "nbconvert_exporter": "python",
   "pygments_lexer": "ipython3",
   "version": "3.10.4"
  },
  "orig_nbformat": 4
 },
 "nbformat": 4,
 "nbformat_minor": 2
}
